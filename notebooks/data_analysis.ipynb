{
    "cells": [
        {
            "cell_type": "markdown",
            "metadata": {},
            "source": [
                "# Email Marketing Campaign Data Analysis\n\nIn this notebook, we analyze the processed email marketing campaign data."
            ]
        },
        {
            "cell_type": "code",
            "execution_count": 1,
            "metadata": {},
            "outputs": [],
            "source": [
                "import pandas as pd\n",
                "import matplotlib.pyplot as plt\n",
                "# Load processed data\n",
                "data = pd.read_csv(\"s3://your-bucket/email-campaigns/processed-data/*.csv\")\n",
                "# Perform analysis\n",
                "data.head()"
            ]
        }
    ],
    "metadata": {
        "kernelspec": {
            "display_name": "Python 3",
            "language": "python",
            "name": "python3"
        },
        "language_info": {
            "name": "python",
            "version": "3.8.5",
            "mimetype": "text/x-python"
        }
    },
    "nbformat": 4,
    "nbformat_minor": 5
}